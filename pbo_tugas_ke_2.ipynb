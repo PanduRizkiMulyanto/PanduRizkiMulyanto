{
  "nbformat": 4,
  "nbformat_minor": 0,
  "metadata": {
    "colab": {
      "provenance": [],
      "authorship_tag": "ABX9TyNpf87MmA3Bu/cdyejsaCfI",
      "include_colab_link": true
    },
    "kernelspec": {
      "name": "python3",
      "display_name": "Python 3"
    },
    "language_info": {
      "name": "python"
    }
  },
  "cells": [
    {
      "cell_type": "markdown",
      "metadata": {
        "id": "view-in-github",
        "colab_type": "text"
      },
      "source": [
        "<a href=\"https://colab.research.google.com/github/PanduRizkiMulyanto/PanduRizkiMulyanto/blob/main/pbo_tugas_ke_2.ipynb\" target=\"_parent\"><img src=\"https://colab.research.google.com/assets/colab-badge.svg\" alt=\"Open In Colab\"/></a>"
      ]
    },
    {
      "cell_type": "code",
      "source": [
        "class Mahasiswa:\n",
        "    def __init__(self, nama, nim, jurusan):\n",
        "        self.nama = nama\n",
        "        self.nim = nim\n",
        "        self.jurusan = jurusan\n",
        "\n",
        "    def tampilkan_info(self):\n",
        "        print(\"Nama:\", self.nama)\n",
        "        print(\"NIM:\", self.nim)\n",
        "        print(\"Jurusan:\", self.jurusan.NamaJurusan)\n",
        "\n",
        "class Jurusan:\n",
        "    def __init__(self, nama_jurusan):\n",
        "        self.NamaJurusan = nama_jurusan\n",
        "        self.DaftarMahasiswa = []\n",
        "\n",
        "    def tambah_mahasiswa(self, mahasiswa):\n",
        "        self.DaftarMahasiswa.append(mahasiswa)\n",
        "\n",
        "    def tampilkan_daftar_mahasiswa(self):\n",
        "        print(\"Daftar Mahasiswa di Jurusan\", self.NamaJurusan)\n",
        "        for mahasiswa in self.DaftarMahasiswa:\n",
        "            print(\"Nama:\", mahasiswa.nama)\n",
        "            print(\"NIM:\", mahasiswa.nim)\n",
        "\n",
        "class Universitas:\n",
        "    def __init__(self, nama_universitas):\n",
        "        self.NamaUniversitas = nama_universitas\n",
        "        self.DaftarJurusan = []\n",
        "\n",
        "    def tambah_jurusan(self, jurusan):\n",
        "        self.DaftarJurusan.append(jurusan)\n",
        "\n",
        "    def tampilkan_daftar_jurusan(self):\n",
        "        print(\"Daftar Jurusan di\", self.NamaUniversitas)\n",
        "        for jurusan in self.DaftarJurusan:\n",
        "            print(jurusan.NamaJurusan)\n",
        "\n",
        "# Membuat objek Universitas dengan nama \"XYZ University\"\n",
        "xyz_university = Universitas(\"XYZ University\")\n",
        "\n",
        "# Membuat objek Jurusan dengan nama \"Teknik Informatika\" dan menambahkannya ke dalam Universitas XYZ\n",
        "teknik_informatika = Jurusan(\"Teknik Informatika\")\n",
        "xyz_university.tambah_jurusan(teknik_informatika)\n",
        "\n",
        "# Membuat objek Mahasiswa dengan nama \"Kalian masing\", NIM \"Kalian masing\", dan memasukkannya ke dalam Jurusan Teknik Informatika di Universitas XYZ\n",
        "mahasiswa = Mahasiswa(\"Pandu Rizki Mulyanto\", \"G1A022076\", teknik_informatika)\n",
        "teknik_informatika.tambah_mahasiswa(mahasiswa)\n",
        "\n",
        "# Menampilkan daftar jurusan yang ada di Universitas XYZ\n",
        "xyz_university.tampilkan_daftar_jurusan()\n",
        "\n",
        "# Menampilkan daftar mahasiswa yang terdaftar dalam Jurusan Teknik Informatika di Universitas XYZ\n",
        "teknik_informatika.tampilkan_daftar_mahasiswa()\n",
        "\n"
      ],
      "metadata": {
        "colab": {
          "base_uri": "https://localhost:8080/"
        },
        "id": "mCUIWL_etBLf",
        "outputId": "8e2d47f9-8b38-4ec3-d7e3-79d0ba86db60"
      },
      "execution_count": null,
      "outputs": [
        {
          "output_type": "stream",
          "name": "stdout",
          "text": [
            "Daftar Jurusan di XYZ University\n",
            "Teknik Informatika\n",
            "Daftar Mahasiswa di Jurusan Teknik Informatika\n",
            "Nama: Pandu Rizki Mulyanto\n",
            "NIM: G1A022076\n"
          ]
        }
      ]
    }
  ]
}